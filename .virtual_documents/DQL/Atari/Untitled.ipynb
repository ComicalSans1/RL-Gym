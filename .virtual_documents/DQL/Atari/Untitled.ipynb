import numpy as np
import torch
import gymnasium as gym

device = torch.device(
    "cuda" if torch.cuda.is_available() else
    "mps" if torch.backends.mps.is_available() else
    "cpu"
)

env = gym.make("Acrobot-v1", render_mode = "human")

""" 0: NOOP (nothing)
    1: FIRE
    
    MOVEMENT:
    7  2  6
    4  0  3
       5

    FIRING:
    13 08 12
    10 00 09
       11 
"""

def generate_episodes(n_ep, env):
    
    for _ in range(n_ep):
        observation, info = env.reset()
        total_reward = 0

        while True:
            action = env.action_space.sample()
            observation, reward, terminated, truncated, info = env.step(action)
            
            total_reward += reward
            # print(total_reward)
            
            if terminated or total_reward < -99:
                break
