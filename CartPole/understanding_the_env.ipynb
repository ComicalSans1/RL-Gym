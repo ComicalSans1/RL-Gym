{
 "cells": [
  {
   "cell_type": "code",
   "execution_count": 256,
   "id": "d2fa58d8-d8ad-4b8c-ba59-b5fe1db4e9a5",
   "metadata": {},
   "outputs": [],
   "source": [
    "import numpy as np\n",
    "import torch\n",
    "import torch.nn as nn\n",
    "import torch.nn.functional as F\n",
    "import gymnasium as gym\n",
    "\n",
    "import random\n",
    "from collections import deque\n",
    "\n",
    "env = gym.make(\"CartPole-v1\")\n",
    "\n",
    "\"\"\" state: [position, velocity, angle, radial velocity]\n",
    "action: [left, right]\n",
    "left is minus, right is plus\"\"\"\n",
    "\n",
    "def generate_episodes(n_ep, env):\n",
    "    for _ in range(n_ep):\n",
    "        observation, info = env.reset()\n",
    "\n",
    "        while True:\n",
    "            action = env.action_space.sample()\n",
    "            observation, reward, terminated, truncated, info = env.step(action)\n",
    "            # print(observation, action)\n",
    "            \n",
    "            if terminated or truncated:\n",
    "                break"
   ]
  },
  {
   "cell_type": "code",
   "execution_count": 257,
   "id": "ef42c013-0ebf-47b2-a7d3-ae829e1581be",
   "metadata": {},
   "outputs": [],
   "source": [
    "def simple_policy(state):\n",
    "    return int(state[2] < 0)\n",
    "\n",
    "def less_simple_policy(state):\n",
    "    r = np.random.rand()\n",
    "    threshold = 0.5\n",
    "    if np.absolute(state[2]) > 0.12:\n",
    "        return int(state[2] < 0)\n",
    "    else:\n",
    "        return np.random.randint(0, 2)"
   ]
  },
  {
   "cell_type": "code",
   "execution_count": 258,
   "id": "426f1030-b64e-4e98-89b3-6633c7223091",
   "metadata": {},
   "outputs": [
    {
     "name": "stdout",
     "output_type": "stream",
     "text": [
      "8.727 20.831\n"
     ]
    }
   ],
   "source": [
    "env = gym.make(\"CartPole-v1\")\n",
    "\n",
    "def test_policy(n_ep, policy, _env):\n",
    "    reward_list = []\n",
    "    \n",
    "    for _ in range(n_ep):\n",
    "        reward_count = 0\n",
    "        observation, info = _env.reset()\n",
    "        \n",
    "        while True:\n",
    "            action = policy(observation)\n",
    "            observation, reward, terminated, truncated, info = _env.step(action)\n",
    "            reward_count += reward\n",
    "            # print(observation, action)\n",
    "            \n",
    "            if terminated or truncated:\n",
    "                break\n",
    "        reward_list.append(reward_count)\n",
    "    return np.mean(reward_list)\n",
    "\n",
    "avg_reward_1 = test_policy(1000, simple_policy, env)\n",
    "avg_reward_2 = test_policy(1000, less_simple_policy, env)\n",
    "\n",
    "print(avg_reward_1, avg_reward_2)\n",
    "env.close()"
   ]
  },
  {
   "cell_type": "code",
   "execution_count": 259,
   "id": "44477010-1156-49dd-ac62-3a54d1cf21e2",
   "metadata": {},
   "outputs": [
    {
     "data": {
      "text/plain": [
       "{}"
      ]
     },
     "execution_count": 259,
     "metadata": {},
     "output_type": "execute_result"
    }
   ],
   "source": [
    "state, info = env.reset()\n",
    "action = env.action_space.sample()\n",
    "observation, reward, terminated, truncated, info = env.step(action)\n",
    "info"
   ]
  },
  {
   "cell_type": "code",
   "execution_count": 260,
   "id": "16070b5a-ce3e-4fa5-a567-69c88e4ae136",
   "metadata": {},
   "outputs": [
    {
     "data": {
      "text/plain": [
       "tensor(1)"
      ]
     },
     "execution_count": 260,
     "metadata": {},
     "output_type": "execute_result"
    }
   ],
   "source": [
    "torch.argmax(torch.tensor([1, 100, 4, 5]))"
   ]
  },
  {
   "cell_type": "code",
   "execution_count": 261,
   "id": "f07b1a75-0752-413f-b146-242a1421644a",
   "metadata": {},
   "outputs": [],
   "source": [
    "def epsilon_greedy(env, Q_net, S, epsilon):\n",
    "    r = torch.rand(1)\n",
    "    if r > epsilon:\n",
    "        return torch.argmax(Q_net.forward(S))\n",
    "    else:\n",
    "        return torch.tensor([[env.action_space.sample()]])\n",
    "\n",
    "class DQN(nn.Module):\n",
    "    def __init__(self, in_dim, out_dim) -> None:\n",
    "        super().__init__()\n",
    "        # note to self: nn.Linear() represents the transformation, not the matrices themselves.\n",
    "        self.il = nn.Linear(in_dim, 50)\n",
    "        self.ol = nn.Linear(50, out_dim)\n",
    "        self.relu = nn.ReLU()\n",
    "        \n",
    "    def forward(self, x):\n",
    "        x = F.relu(self.il(x))\n",
    "        return F.relu(self.ol(x))\n",
    "        \n",
    "class Replay_Memory():\n",
    "    def __init__(self, cap):\n",
    "        self.memory = deque([], maxlen = cap)\n",
    "\n",
    "    def push(self, state, action, reward, next_state, done):\n",
    "        self.memory.append((state, action, reward, next_state, done))\n",
    "\n",
    "    def sample(self, batch_size):\n",
    "        mem_sample = random.sample(self.memory, batch_size)\n",
    "    \n",
    "        states, actions, rewards, next_states, dones = zip(*mem_sample)\n",
    "        \n",
    "        return (torch.stack(states), torch.stack(actions), torch.stack(rewards), \n",
    "                torch.stack(next_states), torch.stack(dones))\n",
    "\n",
    "    def __len__(self):\n",
    "        return len(self.memory)\n",
    "\n",
    "def DQL(_env, n_ep):\n",
    "    state_dim = _env.observation_space.shape[0]\n",
    "    action_dim = _env.action_space.n\n",
    "    buffer_cap = 100000\n",
    "    \n",
    "    replay_buffer = Replay_Memory(buffer_cap)\n",
    "    behaviour_net = DQN(state_dim, action_dim)\n",
    "    target_net = DQN(state_dim, action_dim)\n",
    "\n",
    "    cumulative_reward_list = []\n",
    "    \n",
    "    target_net.load_state_dict(behaviour_net.state_dict())\n",
    "    target_net.eval()\n",
    "    \n",
    "    optimizer = torch.optim.Adam(behaviour_net.parameters(), lr=0.01)\n",
    "    loss_func = nn.MSELoss();\n",
    "\n",
    "    n_steps = 0\n",
    "    decay_min = 0.01\n",
    "    decay_const = 0.01\n",
    "    successes = 0\n",
    "    _gamma = 0.99\n",
    "\n",
    "    for i in range(n_ep):\n",
    "        S, info = _env.reset()\n",
    "        S = torch.tensor(S, dtype=torch.float32)\n",
    "        done = False\n",
    "        \n",
    "\n",
    "        while not done:\n",
    "            epsilon = decay_min + (1 - decay_min) * np.exp(-decay_const * i)\n",
    "            \n",
    "            A = int(epsilon_greedy(env, behaviour_net, S, epsilon))\n",
    "            S_prime, R, terminated, truncated, info = _env.step(A)\n",
    "            done = terminated or truncated\n",
    "            n_steps += 1\n",
    "\n",
    "            S_prime = torch.tensor(S_prime, dtype=torch.float32)\n",
    "            A = torch.tensor([A], dtype=torch.int64) # Use int64 for indexing\n",
    "            R = torch.tensor([R], dtype=torch.float32)\n",
    "            done = torch.tensor([done], dtype=torch.float32)\n",
    "            \n",
    "            replay_buffer.push(S, A, R, S_prime, done)\n",
    "\n",
    "            S = S_prime\n",
    "            \n",
    "            if len(replay_buffer) > 64:\n",
    "                # sample from replay buffer\n",
    "                state_batch, action_batch, reward_batch, next_state_batch, done_batch = replay_buffer.sample(64)\n",
    "                # feed these values to Q-network, get the Q-values\n",
    "                \n",
    "                q_values = behaviour_net(state_batch)\n",
    "                # gather values from q_values with the index being action_batch values\n",
    "                specific_qs = q_values.gather(1, action_batch)\n",
    "\n",
    "                # get max q-value from target net\n",
    "                with torch.no_grad():\n",
    "                    specific_target_qs = target_net(next_state_batch).max(1)[0].unsqueeze(1)\n",
    "\n",
    "                # calculate target q-value\n",
    "                target_q_values = reward_batch + (_gamma * specific_target_qs * (1 - done_batch))            \n",
    "\n",
    "                #loss\n",
    "                loss = loss_func(specific_qs, target_q_values)\n",
    "\n",
    "                #backprop\n",
    "                optimizer.zero_grad()\n",
    "                loss.backward()\n",
    "                optimizer.step()\n",
    "                    \n",
    "            if (n_steps % 100) == 0:\n",
    "                target_net.load_state_dict(behaviour_net.state_dict())\n",
    "                \n",
    "    return behaviour_net"
   ]
  },
  {
   "cell_type": "code",
   "execution_count": 262,
   "id": "2af03cc3-3f50-4833-8190-330cda551fe7",
   "metadata": {},
   "outputs": [
    {
     "name": "stdout",
     "output_type": "stream",
     "text": [
      "tensor([[[-3.4905e+00,  8.1827e-04, -2.0865e-01, -1.7831e+00]],\n",
      "\n",
      "        [[-3.4905e+00,  8.1827e-04, -2.0865e-01, -1.7831e+00]],\n",
      "\n",
      "        [[-3.4905e+00,  8.1827e-04, -2.0865e-01, -1.7831e+00]],\n",
      "\n",
      "        [[-3.4905e+00,  8.1827e-04, -2.0865e-01, -1.7831e+00]]])\n",
      "tensor([[0],\n",
      "        [0],\n",
      "        [0],\n",
      "        [0]])\n",
      "tensor([[0.4487],\n",
      "        [0.4487],\n",
      "        [0.4487],\n",
      "        [0.4487]], grad_fn=<GatherBackward0>)\n",
      "tensor([0.4487, 0.4487, 0.4487, 0.4487], grad_fn=<SqueezeBackward1>)\n"
     ]
    }
   ],
   "source": [
    "example_buffer = [(torch.tensor(env.observation_space.sample()), torch.tensor(env.action_space.sample()), torch.tensor(1), torch.tensor(env.observation_space.sample()), torch.tensor(False))] * 4 \n",
    "example_buffer\n",
    "mem_sample = random.sample(example_buffer, 4)\n",
    "a, b, c, d, e = zip(*mem_sample)\n",
    "please = torch.stack(a)\n",
    "please_b = torch.stack(b)\n",
    "# print(please)\n",
    "print(please.unsqueeze(1))\n",
    "print(please_b.unsqueeze(1))\n",
    "\n",
    "example_net = DQN(env.observation_space.shape[0], env.action_space.n)\n",
    "ex_values = example_net(please)\n",
    "print(ex_values.gather(1, please_b.unsqueeze(1)))\n",
    "print(ex_values.gather(1, please_b.unsqueeze(1)).squeeze(1))"
   ]
  },
  {
   "cell_type": "code",
   "execution_count": 263,
   "id": "a3f7859a-0aa6-466b-ae6b-ee7c4c65a792",
   "metadata": {},
   "outputs": [],
   "source": [
    "env = gym.make(\"CartPole-v1\")\n",
    "\n",
    "Q_net = DQL(env, 200)\n",
    "env.close()"
   ]
  },
  {
   "cell_type": "code",
   "execution_count": 269,
   "id": "d2b76068-7094-47b0-a860-a6d54b492d60",
   "metadata": {},
   "outputs": [],
   "source": [
    "def greedy(Q_net, S):\n",
    "    return torch.argmax(Q_net.forward(S))\n",
    "    \n",
    "def generate_episode(policy, _env, Q_net):\n",
    "    observation, info = _env.reset()\n",
    "    observation = torch.tensor(observation, dtype=torch.float32)\n",
    "\n",
    "    while True:\n",
    "        action = int(greedy(Q_net, observation))\n",
    "        observation, reward, terminated, truncated, info = _env.step(action)\n",
    "        observation = torch.tensor(observation, dtype=torch.float32)\n",
    "        \n",
    "        if terminated or truncated:\n",
    "            break\n",
    "\n",
    "env = gym.make(\"CartPole-v1\", render_mode=\"human\")\n",
    "observation, info = env.reset(seed=42)\n",
    "\n",
    "for _ in range(10):\n",
    "    generate_episode(greedy, env, Q_net)\n",
    "    \n",
    "env.close()"
   ]
  },
  {
   "cell_type": "code",
   "execution_count": 268,
   "id": "5d468879-701a-4296-bf55-e311575d9770",
   "metadata": {},
   "outputs": [
    {
     "data": {
      "image/png": "[encoded data removed]",
      "text/plain": [
       "<Figure size 1000x800 with 2 Axes>"
      ]
     },
     "metadata": {},
     "output_type": "display_data"
    }
   ],
   "source": [
    "def visualize_policy_map(trained_net, env):\n",
    "    # Set the network to evaluation mode\n",
    "    trained_net.eval()\n",
    "    \n",
    "    # --- 1. Create the Grid ---\n",
    "    # Define the range for Pole Angle and Pole Angular Velocity\n",
    "    # Use the environment's observation space limits for robust ranges\n",
    "    angle_range = np.linspace(env.observation_space.low[2], env.observation_space.high[2], 100)\n",
    "    ang_vel_range = np.linspace(-1.5, 1.5, 100) # Manually set a reasonable range for velocity\n",
    "    \n",
    "    # Create a grid to store the optimal action for each state\n",
    "    policy_map = np.zeros((len(angle_range), len(ang_vel_range)))\n",
    "\n",
    "    # --- 2. Iterate and Query the Network ---\n",
    "    for i, angle in enumerate(angle_range):\n",
    "        for j, ang_vel in enumerate(ang_vel_range):\n",
    "            # Fix Cart Position and Velocity to 0\n",
    "            state = torch.tensor([0.0, 0.0, angle, ang_vel], dtype=torch.float32)\n",
    "            \n",
    "            # Use torch.no_grad() for faster inference\n",
    "            with torch.no_grad():\n",
    "                # The network expects a batch, so we unsqueeze to add a batch dimension\n",
    "                q_values = trained_net(state.unsqueeze(0))\n",
    "                # The best action is the one with the highest Q-value\n",
    "                action = torch.argmax(q_values).item()\n",
    "                policy_map[i, j] = action\n",
    "\n",
    "    # --- 3. Plot the Action Map ---\n",
    "    plt.figure(figsize=(10, 8))\n",
    "    # Use pcolormesh for a colored grid\n",
    "    # Transpose the map because imshow/pcolormesh expects (row, col) which corresponds to (y, x)\n",
    "    plt.pcolormesh(ang_vel_range, angle_range, policy_map, cmap='coolwarm', shading='auto')\n",
    "    \n",
    "    plt.colorbar(ticks=[0, 1], label='Action').ax.set_yticklabels(['Push Left (0)', 'Push Right (1)'])\n",
    "    plt.title('DQN Policy Map for CartPole')\n",
    "    plt.xlabel('Pole Angular Velocity (rad/s)')\n",
    "    plt.ylabel('Pole Angle (rad)')\n",
    "    plt.grid(True)\n",
    "    plt.show()\n",
    "\n",
    "visualize_policy_map(Q_net, env)"
   ]
  },
  {
   "cell_type": "code",
   "execution_count": null,
   "id": "ecd0225c-7785-47c4-b8f5-634073902273",
   "metadata": {},
   "outputs": [],
   "source": []
  }
 ],
 "metadata": {
  "kernelspec": {
   "display_name": "Python 3 (ipykernel)",
   "language": "python",
   "name": "python3"
  },
  "language_info": {
   "codemirror_mode": {
    "name": "ipython",
    "version": 3
   },
   "file_extension": ".py",
   "mimetype": "text/x-python",
   "name": "python",
   "nbconvert_exporter": "python",
   "pygments_lexer": "ipython3",
   "version": "3.12.5"
  }
 },
 "nbformat": 4,
 "nbformat_minor": 5
}
