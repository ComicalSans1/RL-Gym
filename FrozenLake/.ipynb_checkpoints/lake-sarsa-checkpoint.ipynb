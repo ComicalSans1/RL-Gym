{
 "cells": [
  {
   "cell_type": "code",
   "execution_count": 1,
   "id": "50fe813d-0585-46a5-a3bd-84b5b53757b8",
   "metadata": {},
   "outputs": [],
   "source": [
    "import gymnasium as gym\n",
    "from gymnasium import spaces\n",
    "from collections import defaultdict\n",
    "import numpy as np\n",
    "\n",
    "class NegativeHoleRewardWrapper(gym.RewardWrapper):\n",
    "    def __init__(self, env):\n",
    "        super().__init__(env)\n",
    "\n",
    "    def step(self, action):\n",
    "        observation, reward, terminated, truncated, info = self.env.step(action)\n",
    "        if reward == 0 and terminated:\n",
    "            reward = -1\n",
    "        \n",
    "        return observation, reward, terminated, truncated, info\n",
    "\n",
    "env = gym.make('FrozenLake-v1', desc=[\"SFFF\", \"FHFH\", \"FFFH\", \"HFFG\"], is_slippery=False)\n",
    "wrapped_env = NegativeHoleRewardWrapper(env)\n",
    "observation, info = wrapped_env.reset(seed=42)"
   ]
  },
  {
   "cell_type": "markdown",
   "id": "d969762b-c199-45d8-b665-d4d3f5250639",
   "metadata": {},
   "source": [
    "### Basic Sarsa:"
   ]
  },
  {
   "cell_type": "code",
   "execution_count": 15,
   "id": "ccbb652a-9038-4fdd-9bee-0bd490c60acb",
   "metadata": {},
   "outputs": [],
   "source": [
    "def epsilon_greedy(Q_func, S, epsilon):\n",
    "    r = np.random.random()\n",
    "    if r > epsilon:\n",
    "        return np.argmax(Q_func[S])\n",
    "    else:\n",
    "        return np.random.choice([0, 1, 2, 3])\n",
    "\n",
    "def Sarsa(policy, _env, n_ep):\n",
    "    Q_func = defaultdict(lambda: [0] * 4)\n",
    "    N = defaultdict(lambda: [0] * 4)\n",
    "    N_s = defaultdict(int)\n",
    "    N_0 = 100\n",
    "    successes = 0\n",
    "    _gamma = 0.5\n",
    "    _alpha = 0.5\n",
    "\n",
    "    for i in range(n_ep):\n",
    "        observation, info = _env.reset()\n",
    "\n",
    "        N_s[observation] += 1\n",
    "        epsilon = N_0/(N_0 + N_s[observation])\n",
    "        action = policy(Q_func, observation, epsilon)\n",
    "    \n",
    "        while True:\n",
    "            S_t = observation\n",
    "            A_t = action\n",
    "            \n",
    "            observation, reward, terminated, truncated, info = _env.step(action)\n",
    "            R_t_plus_1 = reward\n",
    "            S_t_plus_1 = observation\n",
    "\n",
    "            if not (terminated or truncated):\n",
    "                N_s[observation] += 1\n",
    "                epsilon = N_0/(N_0 + N_s[observation])\n",
    "                A_t_plus_1 = policy(Q_func, S_t_plus_1, epsilon)      \n",
    "            else:\n",
    "                A_t_plus_1 = None\n",
    "\n",
    "            if not (terminated or truncated):\n",
    "                Q_func[S_t][A_t] += _alpha * (R_t_plus_1 + _gamma * Q_func[S_t_plus_1][A_t_plus_1] - Q_func[S_t][A_t])\n",
    "            else:\n",
    "                Q_func[S_t][A_t] += _alpha * (R_t_plus_1 - Q_func[S_t][A_t])\n",
    "                \n",
    "            observation = S_t_plus_1\n",
    "            action = A_t_plus_1\n",
    "            \n",
    "            if terminated or truncated:\n",
    "                if reward == 1:\n",
    "                    successes += 1\n",
    "                break\n",
    "                \n",
    "    print(\"Number of successes:\", successes)\n",
    "    return Q_func"
   ]
  },
  {
   "cell_type": "code",
   "execution_count": 28,
   "id": "e3d7b138-cb9f-4617-aad4-51b3a6a1a441",
   "metadata": {},
   "outputs": [
    {
     "name": "stdout",
     "output_type": "stream",
     "text": [
      "Number of successes: 1\n"
     ]
    }
   ],
   "source": [
    "Q_func = Sarsa(epsilon_greedy, env, 1000) \n",
    "# still very inconsistent lol\n",
    "env.close()"
   ]
  },
  {
   "cell_type": "markdown",
   "id": "a4602213-ae46-4893-928f-ad5c4d5ab39c",
   "metadata": {},
   "source": [
    "### Sarsa($\\lambda$):"
   ]
  },
  {
   "cell_type": "code",
   "execution_count": 7,
   "id": "6386200a-55ca-484f-ac35-2597ce7ac31a",
   "metadata": {},
   "outputs": [],
   "source": [
    "def Sarsa_lambda(policy, _env, n_ep):\n",
    "    Q_func = defaultdict(lambda: [0] * 4)\n",
    "    N_s = defaultdict(int)\n",
    "    N_0 = 100\n",
    "    successes = 0\n",
    "    \n",
    "    _gamma = 0.5\n",
    "    _lambda = 0.9\n",
    "    _alpha = 0.5\n",
    "\n",
    "    for i in range(n_ep):\n",
    "        E_trace = defaultdict(lambda: [0] * 4)\n",
    "        observation, info = _env.reset()\n",
    "        \n",
    "        N_s[observation] += 1\n",
    "        epsilon = N_0/(N_0 + N_s[observation])\n",
    "        action = policy(Q_func, observation, epsilon)\n",
    "    \n",
    "        while True:\n",
    "            S_t = observation\n",
    "            A_t = action\n",
    "            \n",
    "            observation, reward, terminated, truncated, info = _env.step(action)\n",
    "            R_t_plus_1 = reward\n",
    "            S_t_plus_1 = observation\n",
    "\n",
    "            if not (terminated or truncated):\n",
    "                N_s[observation] += 1\n",
    "                epsilon = N_0/(N_0 + N_s[observation])\n",
    "                A_t_plus_1 = policy(Q_func, S_t_plus_1, epsilon)\n",
    "                TD_error = R_t_plus_1 + (_gamma * Q_func[S_t_plus_1][A_t_plus_1]) - Q_func[S_t][A_t]\n",
    "            else:\n",
    "                TD_error = R_t_plus_1 - Q_func[S_t][A_t]\n",
    "                A_t_plus_1 = None\n",
    "\n",
    "            E_trace[S_t][A_t] += 1\n",
    "            \n",
    "            for S in Q_func:\n",
    "                for A in range(_env.action_space.n):\n",
    "                    Q_func[S][A] += _alpha * TD_error * E_trace[S][A]\n",
    "                    E_trace[S][A] = _gamma * _lambda * E_trace[S][A]    \n",
    "\n",
    "            observation = S_t_plus_1\n",
    "            action = A_t_plus_1\n",
    "            \n",
    "            if terminated or truncated:\n",
    "                if reward == 1:\n",
    "                    successes += 1\n",
    "                break\n",
    "            \n",
    "    print(\"Number of successes:\", successes)\n",
    "    return Q_func"
   ]
  },
  {
   "cell_type": "code",
   "execution_count": 14,
   "id": "23b2255c-2328-428e-a9b5-520b4f9ef92b",
   "metadata": {},
   "outputs": [
    {
     "name": "stdout",
     "output_type": "stream",
     "text": [
      "Number of successes: 553\n"
     ]
    }
   ],
   "source": [
    "Q_func_1 = Sarsa_lambda(epsilon_greedy, env, 1000) \n",
    "# much more consistent; average of around 600/1000\n",
    "env.close()"
   ]
  },
  {
   "cell_type": "code",
   "execution_count": 10,
   "id": "4f56b0e0-877c-499f-a618-22b870bcea48",
   "metadata": {},
   "outputs": [],
   "source": [
    "def greedy(Q_func, S):\n",
    "    return np.argmax(Q_func[S])\n",
    "\n",
    "def generate_episode(policy, _env, Q_func):\n",
    "    observation, info = _env.reset()\n",
    "\n",
    "    while True:\n",
    "        action = policy(Q_func, observation)\n",
    "        observation, reward, terminated, truncated, info = _env.step(action)\n",
    "        \n",
    "        if terminated or truncated:\n",
    "            break\n",
    "\n",
    "env_1 = gym.make('FrozenLake-v1', desc=[\"SFFF\", \"FHFH\", \"FFFH\", \"HFFG\"], is_slippery=False, render_mode='human')\n",
    "observation, info = wrapped_env.reset(seed=42)\n",
    "\n",
    "for _ in range(10):\n",
    "    generate_episode(greedy, env_1, Q_func)\n",
    "    \n",
    "env_1.close()"
   ]
  }
 ],
 "metadata": {
  "kernelspec": {
   "display_name": "Python 3 (ipykernel)",
   "language": "python",
   "name": "python3"
  },
  "language_info": {
   "codemirror_mode": {
    "name": "ipython",
    "version": 3
   },
   "file_extension": ".py",
   "mimetype": "text/x-python",
   "name": "python",
   "nbconvert_exporter": "python",
   "pygments_lexer": "ipython3",
   "version": "3.12.5"
  }
 },
 "nbformat": 4,
 "nbformat_minor": 5
}
