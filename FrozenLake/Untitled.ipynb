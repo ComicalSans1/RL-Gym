{
 "cells": [
  {
   "cell_type": "code",
   "execution_count": 1,
   "id": "50fe813d-0585-46a5-a3bd-84b5b53757b8",
   "metadata": {},
   "outputs": [],
   "source": [
    "import gymnasium as gym\n",
    "from gymnasium import spaces\n",
    "from collections import defaultdict\n",
    "import numpy as np\n",
    "\n",
    "class NegativeHoleRewardWrapper(gym.RewardWrapper):\n",
    "    def __init__(self, env):\n",
    "        super().__init__(env)\n",
    "\n",
    "    def step(self, action):\n",
    "        observation, reward, terminated, truncated, info = self.env.step(action)\n",
    "        if reward == 0 and terminated:\n",
    "            reward = -1\n",
    "        \n",
    "        return observation, reward, terminated, truncated, info\n",
    "\n",
    "env = gym.make('FrozenLake-v1', desc=[\"SFFF\", \"FHFH\", \"FFFH\", \"HFFG\"], is_slippery=False)\n",
    "wrapped_env = NegativeHoleRewardWrapper(env)\n",
    "observation, info = wrapped_env.reset(seed=42)"
   ]
  },
  {
   "cell_type": "code",
   "execution_count": null,
   "id": "ccbb652a-9038-4fdd-9bee-0bd490c60acb",
   "metadata": {},
   "outputs": [],
   "source": []
  }
 ],
 "metadata": {
  "kernelspec": {
   "display_name": "Python 3 (ipykernel)",
   "language": "python",
   "name": "python3"
  },
  "language_info": {
   "codemirror_mode": {
    "name": "ipython",
    "version": 3
   },
   "file_extension": ".py",
   "mimetype": "text/x-python",
   "name": "python",
   "nbconvert_exporter": "python",
   "pygments_lexer": "ipython3",
   "version": "3.12.5"
  }
 },
 "nbformat": 4,
 "nbformat_minor": 5
}
