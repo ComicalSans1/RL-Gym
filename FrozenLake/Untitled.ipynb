{
 "cells": [
  {
   "cell_type": "code",
   "execution_count": 2,
   "id": "50fe813d-0585-46a5-a3bd-84b5b53757b8",
   "metadata": {},
   "outputs": [],
   "source": [
    "import gymnasium as gym\n",
    "from gymnasium import spaces\n",
    "from collections import defaultdict\n",
    "import numpy as np\n",
    "\n",
    "class NegativeHoleRewardWrapper(gym.RewardWrapper):\n",
    "    def __init__(self, env):\n",
    "        super().__init__(env)\n",
    "\n",
    "    def step(self, action):\n",
    "        observation, reward, terminated, truncated, info = self.env.step(action)\n",
    "        if reward == 0 and terminated:\n",
    "            reward = -1\n",
    "        \n",
    "        return observation, reward, terminated, truncated, info\n",
    "\n",
    "env = gym.make('FrozenLake-v1', desc=[\"SFFF\", \"FHFH\", \"FFFH\", \"HFFG\"], is_slippery=False)\n",
    "wrapped_env = NegativeHoleRewardWrapper(env)\n",
    "observation, info = wrapped_env.reset(seed=42)"
   ]
  },
  {
   "cell_type": "code",
   "execution_count": 65,
   "id": "ccbb652a-9038-4fdd-9bee-0bd490c60acb",
   "metadata": {},
   "outputs": [
    {
     "name": "stdout",
     "output_type": "stream",
     "text": [
      "Number of successes: 587\n"
     ]
    }
   ],
   "source": [
    "def epsilon_greedy(Q_func, S, epsilon):\n",
    "    r = np.random.random()\n",
    "    if r > epsilon:\n",
    "        return np.argmax(Q_func[S])\n",
    "    else:\n",
    "        return np.random.choice([0, 1, 2, 3])\n",
    "\n",
    "def Sarsa(policy, _env, n_ep):\n",
    "    Q_func = defaultdict(lambda: [0] * 4)\n",
    "    N = defaultdict(lambda: [0] * 4)\n",
    "    N_s = defaultdict(int)\n",
    "    N_0 = 100\n",
    "    successes = 0\n",
    "    _gamma = 0.5\n",
    "    _alpha = 0.5\n",
    "\n",
    "    for i in range(n_ep):\n",
    "        observation, info = _env.reset()\n",
    "\n",
    "        N_s[observation] += 1\n",
    "        epsilon = N_0/(N_0 + N_s[observation])\n",
    "        action = policy(Q_func, observation, epsilon)\n",
    "    \n",
    "        while True:\n",
    "            S_t = observation\n",
    "            A_t = action\n",
    "            \n",
    "            observation, reward, terminated, truncated, info = _env.step(action)\n",
    "            R_t_plus_1 = reward\n",
    "            S_t_plus_1 = observation\n",
    "\n",
    "            if not (terminated or truncated):\n",
    "                N_s[observation] += 1\n",
    "                epsilon = N_0/(N_0 + N_s[observation])\n",
    "                A_t_plus_1 = policy(Q_func, S_t_plus_1, epsilon)      \n",
    "            else:\n",
    "                A_t_plus_1 = None\n",
    "\n",
    "            if not (terminated or truncated):\n",
    "                Q_func[S_t][A_t] += _alpha * (R_t_plus_1 + _gamma * Q_func[S_t_plus_1][A_t_plus_1] - Q_func[S_t][A_t])\n",
    "            else:\n",
    "                Q_func[S_t][A_t] += _alpha * (R_t_plus_1 - Q_func[S_t][A_t])\n",
    "                \n",
    "            observation = S_t_plus_1\n",
    "            action = A_t_plus_1\n",
    "            \n",
    "            if terminated or truncated:\n",
    "                if reward == 1:\n",
    "                    successes += 1\n",
    "                break\n",
    "                \n",
    "    print(\"Number of successes:\", successes)\n",
    "    return Q_func\n",
    "\n",
    "Q_func = Sarsa(epsilon_greedy, env, 1000) \n",
    "# still very inconsistent lol\n",
    "env.close()"
   ]
  },
  {
   "cell_type": "code",
   "execution_count": 40,
   "id": "4f56b0e0-877c-499f-a618-22b870bcea48",
   "metadata": {},
   "outputs": [
    {
     "ename": "NameError",
     "evalue": "name 'generate_episode' is not defined",
     "output_type": "error",
     "traceback": [
      "\u001b[1;31m---------------------------------------------------------------------------\u001b[0m",
      "\u001b[1;31mNameError\u001b[0m                                 Traceback (most recent call last)",
      "Cell \u001b[1;32mIn[40], line 8\u001b[0m\n\u001b[0;32m      5\u001b[0m observation, info \u001b[38;5;241m=\u001b[39m wrapped_env\u001b[38;5;241m.\u001b[39mreset(seed\u001b[38;5;241m=\u001b[39m\u001b[38;5;241m42\u001b[39m)\n\u001b[0;32m      7\u001b[0m \u001b[38;5;28;01mfor\u001b[39;00m _ \u001b[38;5;129;01min\u001b[39;00m \u001b[38;5;28mrange\u001b[39m(\u001b[38;5;241m10\u001b[39m):\n\u001b[1;32m----> 8\u001b[0m     \u001b[43mgenerate_episode\u001b[49m(greedy, env_1, Q_func, defaultdict(\u001b[38;5;28mint\u001b[39m))\n\u001b[0;32m      9\u001b[0m env_1\u001b[38;5;241m.\u001b[39mclose()\n",
      "\u001b[1;31mNameError\u001b[0m: name 'generate_episode' is not defined"
     ]
    }
   ],
   "source": [
    "def greedy(Q_func, S, epsilon):\n",
    "    return np.argmax(Q_func[S])\n",
    "\n",
    "env_1 = gym.make('FrozenLake-v1', desc=[\"SFFF\", \"FHFH\", \"FFFH\", \"HFFG\"], is_slippery=False, render_mode='human')\n",
    "observation, info = wrapped_env.reset(seed=42)\n",
    "\n",
    "for _ in range(10):\n",
    "    generate_episode(greedy, env_1, Q_func, defaultdict(int))\n",
    "env_1.close()"
   ]
  },
  {
   "cell_type": "code",
   "execution_count": null,
   "id": "a0b9020e-b253-4717-9a7f-1c5b1308a774",
   "metadata": {},
   "outputs": [],
   "source": []
  }
 ],
 "metadata": {
  "kernelspec": {
   "display_name": "Python 3 (ipykernel)",
   "language": "python",
   "name": "python3"
  },
  "language_info": {
   "codemirror_mode": {
    "name": "ipython",
    "version": 3
   },
   "file_extension": ".py",
   "mimetype": "text/x-python",
   "name": "python",
   "nbconvert_exporter": "python",
   "pygments_lexer": "ipython3",
   "version": "3.12.5"
  }
 },
 "nbformat": 4,
 "nbformat_minor": 5
}
