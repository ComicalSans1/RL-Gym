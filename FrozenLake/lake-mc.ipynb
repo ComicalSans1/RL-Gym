{
 "cells": [
  {
   "cell_type": "code",
   "execution_count": 74,
   "id": "8dedf543-dc19-4e3c-9e4c-d476b2e675bc",
   "metadata": {},
   "outputs": [],
   "source": [
    "import gymnasium as gym\n",
    "from gymnasium import spaces\n",
    "from collections import defaultdict\n",
    "import numpy as np\n",
    "\n",
    "class NegativeHoleRewardWrapper(gym.RewardWrapper):\n",
    "    def __init__(self, env):\n",
    "        super().__init__(env)\n",
    "\n",
    "    def step(self, action):\n",
    "        observation, reward, terminated, truncated, info = self.env.step(action)\n",
    "        if reward == 0 and terminated:\n",
    "            reward = -1\n",
    "        \n",
    "        return observation, reward, terminated, truncated, info\n",
    "\n",
    "env = gym.make('FrozenLake-v1', desc=[\"SFFF\", \"FHFH\", \"FFFH\", \"HFFG\"], is_slippery=False)\n",
    "wrapped_env = NegativeHoleRewardWrapper(env)\n",
    "observation, info = wrapped_env.reset(seed=42)"
   ]
  },
  {
   "cell_type": "code",
   "execution_count": 107,
   "id": "a9c09b4d-be87-47ac-8527-c81ea237b55d",
   "metadata": {},
   "outputs": [
    {
     "name": "stdout",
     "output_type": "stream",
     "text": [
      "With sparse rewards: 330\n"
     ]
    }
   ],
   "source": [
    "successes = 0\n",
    "    \n",
    "def epsilon_greedy(Q_func, S, epsilon):\n",
    "    r = np.random.random()\n",
    "    if r > epsilon:\n",
    "        return np.argmax(Q_func[S])\n",
    "    else:\n",
    "        return np.random.choice([0, 1, 2, 3])\n",
    "        \n",
    "def generate_episode(policy, _env, Q_func, N_s):\n",
    "    N_0 = 100\n",
    "    states, actions, rewards = [], [], []\n",
    "    observation, info = _env.reset()\n",
    "    global successes\n",
    "\n",
    "    while True:\n",
    "        N_s[observation] += 1\n",
    "        epsilon = N_0/(N_0 + N_s[observation])\n",
    "        \n",
    "        action = policy(Q_func, observation, epsilon)\n",
    "        states.append(observation)\n",
    "        actions.append(action)\n",
    "        \n",
    "        observation, reward, terminated, truncated, info = _env.step(action)\n",
    "        rewards.append(reward)\n",
    "        \n",
    "        if terminated or truncated:\n",
    "            if rewards[-1] == 1:\n",
    "                successes += 1\n",
    "            break\n",
    "\n",
    "    return states, actions, rewards\n",
    "\n",
    "def FVMC_Control(policy, _env, n_ep):\n",
    "    Q_func = defaultdict(lambda: [0] * 4)\n",
    "    N = defaultdict(lambda: [0] * 4)\n",
    "    N_s = defaultdict(int)\n",
    "\n",
    "    for _ in range(n_ep):\n",
    "        states, actions, rewards = generate_episode(policy, _env, Q_func, N_s)\n",
    "        returns = 0\n",
    "\n",
    "        for i in range(len(states) - 1, -1, -1):\n",
    "            S = states[i]\n",
    "            R = rewards[i]\n",
    "            A = actions[i]\n",
    "            returns += R\n",
    "\n",
    "            if S not in states[:i]:\n",
    "                N[S][A] += 1\n",
    "                step_size = 1 / (N[S][A])\n",
    "                Q_func[S][A] += (returns - Q_func[S][A]) * step_size\n",
    "\n",
    "    return Q_func\n",
    "\n",
    "# literally the best way to train here is to test 1000 episodes and gamble for a high success rate\n",
    "Q_func = FVMC_Control(epsilon_greedy, env, 1000) \n",
    "print(\"With sparse rewards:\", successes)\n",
    "\n",
    "env.close()"
   ]
  },
  {
   "cell_type": "code",
   "execution_count": 118,
   "id": "d3a0d47c-9061-489f-91d5-92821ad8e2f4",
   "metadata": {},
   "outputs": [],
   "source": [
    "def greedy(Q_func, S, epsilon):\n",
    "    return np.argmax(Q_func[S])\n",
    "\n",
    "env_1 = gym.make('FrozenLake-v1', desc=[\"SFFF\", \"FHFH\", \"FFFH\", \"HFFG\"], is_slippery=False, render_mode='human')\n",
    "observation, info = wrapped_env.reset(seed=42)\n",
    "\n",
    "for _ in range(10):\n",
    "    generate_episode(greedy, env_1, Q_func, defaultdict(int))\n",
    "env_1.close()"
   ]
  },
  {
   "cell_type": "code",
   "execution_count": null,
   "id": "ee783102-d1c6-440c-9fc9-ac54ea4237ee",
   "metadata": {},
   "outputs": [],
   "source": []
  }
 ],
 "metadata": {
  "kernelspec": {
   "display_name": "Python 3 (ipykernel)",
   "language": "python",
   "name": "python3"
  },
  "language_info": {
   "codemirror_mode": {
    "name": "ipython",
    "version": 3
   },
   "file_extension": ".py",
   "mimetype": "text/x-python",
   "name": "python",
   "nbconvert_exporter": "python",
   "pygments_lexer": "ipython3",
   "version": "3.12.5"
  }
 },
 "nbformat": 4,
 "nbformat_minor": 5
}
