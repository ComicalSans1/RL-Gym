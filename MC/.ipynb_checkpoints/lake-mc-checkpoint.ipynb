{
 "cells": [
  {
   "cell_type": "code",
   "execution_count": 74,
   "id": "8dedf543-dc19-4e3c-9e4c-d476b2e675bc",
   "metadata": {},
   "outputs": [],
   "source": [
    "import gymnasium as gym\n",
    "from gymnasium import spaces\n",
    "from collections import defaultdict\n",
    "import numpy as np\n",
    "\n",
    "class NegativeHoleRewardWrapper(gym.RewardWrapper):\n",
    "    def __init__(self, env):\n",
    "        super().__init__(env)\n",
    "\n",
    "    def step(self, action):\n",
    "        observation, reward, terminated, truncated, info = self.env.step(action)\n",
    "        # The base FrozenLake environment gives a reward of 1 for reaching the goal, and 0 otherwise.\n",
    "        # It also sets the 'terminated' flag to True when either the goal is reached or a hole is fallen into.\n",
    "        # We can check if the episode terminated, but the reward was 0, which indicates a hole.\n",
    "        if reward == 0 and terminated:\n",
    "            reward = -1  # Return a negative reward for falling in a hole\n",
    "        \n",
    "        return observation, reward, terminated, truncated, info  # Otherwise, return the original reward (1 for goal, 0 otherwise)\n",
    "\n",
    "env = gym.make('FrozenLake-v1', desc=[\"SFFF\", \"FHFH\", \"FFFH\", \"HFFG\"], is_slippery=False)\n",
    "wrapped_env = NegativeHoleRewardWrapper(env)\n",
    "observation, info = wrapped_env.reset(seed=42)"
   ]
  },
  {
   "cell_type": "code",
   "execution_count": 107,
   "id": "a9c09b4d-be87-47ac-8527-c81ea237b55d",
   "metadata": {},
   "outputs": [
    {
     "name": "stdout",
     "output_type": "stream",
     "text": [
      "With sparse rewards: 330\n"
     ]
    }
   ],
   "source": [
    "successes = 0\n",
    "\n",
    "def greedy(Q_func, S):\n",
    "    return np.argmax(Q_func[S])\n",
    "    \n",
    "def epsilon_greedy(Q_func, S, epsilon):\n",
    "    r = np.random.random()\n",
    "    if r > epsilon:\n",
    "        return np.argmax(Q_func[S])\n",
    "    else:\n",
    "        return np.random.choice([0, 1, 2, 3])\n",
    "        \n",
    "def generate_episode(policy, _env, Q_func, N_s):\n",
    "    N_0 = 100\n",
    "    states, actions, rewards = [], [], []\n",
    "    observation, info = _env.reset()\n",
    "    global successes\n",
    "\n",
    "    while True:\n",
    "        N_s[observation] += 1\n",
    "        epsilon = N_0/(N_0 + N_s[observation])\n",
    "        \n",
    "        action = policy(Q_func, observation, epsilon)\n",
    "        states.append(observation)\n",
    "        actions.append(action)\n",
    "        \n",
    "        observation, reward, terminated, truncated, info = _env.step(action)\n",
    "        rewards.append(reward)\n",
    "        \n",
    "        if terminated or truncated:\n",
    "            if rewards[-1] == 1:\n",
    "                successes += 1\n",
    "            break\n",
    "\n",
    "    return states, actions, rewards\n",
    "\n",
    "def FVMC_Control(policy, _env, n_ep):\n",
    "    Q_func = defaultdict(lambda: [0] * 4)\n",
    "    N = defaultdict(lambda: [0] * 4)\n",
    "    N_s = defaultdict(int)\n",
    "\n",
    "    for _ in range(n_ep):\n",
    "        states, actions, rewards = generate_episode(policy, _env, Q_func, N_s)\n",
    "        returns = 0\n",
    "\n",
    "        for i in range(len(states) - 1, -1, -1):\n",
    "            S = states[i]\n",
    "            R = rewards[i]\n",
    "            A = actions[i]\n",
    "            returns += R\n",
    "\n",
    "            if S not in states[:i]:\n",
    "                N[S][A] += 1\n",
    "                step_size = 1 / (N[S][A])\n",
    "                Q_func[S][A] += (returns - Q_func[S][A]) * step_size\n",
    "\n",
    "    return Q_func\n",
    "\n",
    "Q_func = FVMC_Control(greedy, env, 1000)\n",
    "print(\"With sparse rewards:\", successes)\n",
    "\n",
    "env.close()"
   ]
  },
  {
   "cell_type": "code",
   "execution_count": 114,
   "id": "d3a0d47c-9061-489f-91d5-92821ad8e2f4",
   "metadata": {},
   "outputs": [],
   "source": [
    "env_1 = gym.make('FrozenLake-v1', desc=[\"SFFF\", \"FHFH\", \"FFFH\", \"HFFG\"], is_slippery=False, render_mode='human')\n",
    "observation, info = wrapped_env.reset(seed=42)\n",
    "\n",
    "for _ in range(10):\n",
    "    generate_episode(epsilon_greedy, env_1, Q_func, defaultdict(int))\n",
    "env_1.close()"
   ]
  },
  {
   "cell_type": "code",
   "execution_count": 113,
   "id": "ee783102-d1c6-440c-9fc9-ac54ea4237ee",
   "metadata": {},
   "outputs": [
    {
     "data": {
      "text/plain": [
       "defaultdict(<function __main__.FVMC_Control.<locals>.<lambda>()>,\n",
       "            {6: [0.0, 0.4285714285714286, 0.0, 0.0],\n",
       "             2: [0.0, 0.0, 0.0, 0.0],\n",
       "             1: [0.11764705882352941, 0.0, 0.0, 0.0],\n",
       "             0: [0.08571428571428576,\n",
       "              0.36509758897818606,\n",
       "              0.08571428571428572,\n",
       "              0.125],\n",
       "             4: [0.08680555555555562, 0.7466666666666669, 0.0, 0.0],\n",
       "             3: [0.0, 0.0, 0.0, 0.0],\n",
       "             14: [0.7692307692307692,\n",
       "              0.8636363636363635,\n",
       "              1.0,\n",
       "              0.6944444444444444],\n",
       "             10: [0.5625, 0.864406779661017, 0.0, 0.17647058823529416],\n",
       "             9: [0.5531914893617023,\n",
       "              0.8364197530864198,\n",
       "              0.5689655172413793,\n",
       "              0.0],\n",
       "             8: [0.4893617021276596,\n",
       "              0.0,\n",
       "              0.7248157248157256,\n",
       "              0.4137931034482759],\n",
       "             13: [0.0,\n",
       "              0.7096774193548387,\n",
       "              0.95539033457249,\n",
       "              0.5882352941176471]})"
      ]
     },
     "execution_count": 113,
     "metadata": {},
     "output_type": "execute_result"
    }
   ],
   "source": [
    "Q_func"
   ]
  },
  {
   "cell_type": "code",
   "execution_count": null,
   "id": "9aef1efd-32f6-453a-b5a2-c996a440c04a",
   "metadata": {},
   "outputs": [],
   "source": []
  }
 ],
 "metadata": {
  "kernelspec": {
   "display_name": "Python 3 (ipykernel)",
   "language": "python",
   "name": "python3"
  },
  "language_info": {
   "codemirror_mode": {
    "name": "ipython",
    "version": 3
   },
   "file_extension": ".py",
   "mimetype": "text/x-python",
   "name": "python",
   "nbconvert_exporter": "python",
   "pygments_lexer": "ipython3",
   "version": "3.12.5"
  }
 },
 "nbformat": 4,
 "nbformat_minor": 5
}
