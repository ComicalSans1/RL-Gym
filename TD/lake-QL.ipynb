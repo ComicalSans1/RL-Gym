{
 "cells": [
  {
   "cell_type": "code",
   "execution_count": 1,
   "id": "c6cbd461-9d49-4bbc-b412-333564a85312",
   "metadata": {},
   "outputs": [],
   "source": [
    "import gymnasium as gym\n",
    "from gymnasium import spaces\n",
    "from collections import defaultdict\n",
    "import numpy as np\n",
    "\n",
    "class NegativeHoleRewardWrapper(gym.RewardWrapper):\n",
    "    def __init__(self, env):\n",
    "        super().__init__(env)\n",
    "\n",
    "    def step(self, action):\n",
    "        observation, reward, terminated, truncated, info = self.env.step(action)\n",
    "        if reward == 0 and terminated:\n",
    "            reward = -1\n",
    "        \n",
    "        return observation, reward, terminated, truncated, info\n",
    "\n",
    "env = gym.make('FrozenLake-v1', desc=[\"SFFF\", \"FHFH\", \"FFFH\", \"HFFG\"])\n",
    "wrapped_env = NegativeHoleRewardWrapper(env)\n",
    "observation, info = wrapped_env.reset(seed=42)"
   ]
  },
  {
   "cell_type": "code",
   "execution_count": 2,
   "id": "97670979-1a6d-4c97-902f-1e264c38d786",
   "metadata": {},
   "outputs": [],
   "source": [
    "def epsilon_greedy(Q_func, S, epsilon):\n",
    "    r = np.random.random()\n",
    "    if r > epsilon:\n",
    "        return np.argmax(Q_func[S])\n",
    "    else:\n",
    "        return np.random.choice([0, 1, 2, 3])\n",
    "\n",
    "def greedy(Q_func, S):\n",
    "    return np.argmax(Q_func[S])\n",
    "\n",
    "def Q_learning(_env, n_ep):\n",
    "    Q_func = defaultdict(lambda: [np.random.random() * 0.05] * 4)\n",
    "    decay_min = 0.01\n",
    "    decay_const = 0.01\n",
    "    \n",
    "    successes = 0\n",
    "    _gamma = 0.99\n",
    "    _alpha = 0.5\n",
    "\n",
    "    observation, info = _env.reset()\n",
    "    behaviour_policy = epsilon_greedy\n",
    "    target_policy = greedy\n",
    "\n",
    "    for i in range(n_ep):\n",
    "        observation, info = _env.reset()\n",
    "        S = observation\n",
    "\n",
    "        epsilon = decay_min + (1 - decay_min) * np.exp(-decay_const * i)\n",
    "        \n",
    "        # if agent is slow kill and replace\n",
    "        if (i % 200) == 0 and successes < 5:\n",
    "            Q_func = defaultdict(lambda: [np.random.random() * 0.05] * 4)\n",
    "            \n",
    "        while True:\n",
    "            A = behaviour_policy(Q_func, S, epsilon)\n",
    "            S_prime, R, terminated, truncated, info = _env.step(A)\n",
    "    \n",
    "            Q_func[S][A] += _alpha * (R + _gamma * np.max(Q_func[S_prime]) - Q_func[S][A])\n",
    "            \n",
    "            S = S_prime\n",
    "            \n",
    "            if terminated or truncated:\n",
    "                if R == 1:\n",
    "                    successes += 1\n",
    "                break\n",
    "                \n",
    "    print(\"Number of successes:\", successes)\n",
    "    return Q_func"
   ]
  },
  {
   "cell_type": "code",
   "execution_count": 3,
   "id": "81283a09-ef7d-4769-aa7b-f2d4bc398f14",
   "metadata": {},
   "outputs": [
    {
     "name": "stdout",
     "output_type": "stream",
     "text": [
      "Number of successes: 2929\n"
     ]
    }
   ],
   "source": [
    "Q_func = Q_learning(env, 5000) \n",
    "# gets it a bit more than half the time\n",
    "env.close()"
   ]
  },
  {
   "cell_type": "code",
   "execution_count": 4,
   "id": "d4110381-67a9-4c69-855f-63ead5b53091",
   "metadata": {},
   "outputs": [],
   "source": [
    "def greedy(Q_func, S):\n",
    "    return np.argmax(Q_func[S])\n",
    "\n",
    "def generate_episode(policy, _env, Q_func):\n",
    "    observation, info = _env.reset()\n",
    "\n",
    "    while True:\n",
    "        action = policy(Q_func, observation)\n",
    "        observation, reward, terminated, truncated, info = _env.step(action)\n",
    "        \n",
    "        if terminated or truncated:\n",
    "            break\n",
    "\n",
    "env_1 = gym.make('FrozenLake-v1', desc=[\"SFFF\", \"FHFH\", \"FFFH\", \"HFFG\"], render_mode='human')\n",
    "observation, info = wrapped_env.reset(seed=42)\n",
    "\n",
    "for _ in range(10):\n",
    "    generate_episode(greedy, env_1, Q_func)\n",
    "    \n",
    "env_1.close()"
   ]
  }
 ],
 "metadata": {
  "kernelspec": {
   "display_name": "Python 3 (ipykernel)",
   "language": "python",
   "name": "python3"
  },
  "language_info": {
   "codemirror_mode": {
    "name": "ipython",
    "version": 3
   },
   "file_extension": ".py",
   "mimetype": "text/x-python",
   "name": "python",
   "nbconvert_exporter": "python",
   "pygments_lexer": "ipython3",
   "version": "3.12.5"
  }
 },
 "nbformat": 4,
 "nbformat_minor": 5
}
