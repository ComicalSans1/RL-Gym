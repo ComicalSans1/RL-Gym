{
 "cells": [
  {
   "cell_type": "code",
   "execution_count": 2,
   "id": "2e38c712-a91e-4aba-bb36-850204c261d2",
   "metadata": {},
   "outputs": [],
   "source": [
    "import gymnasium as gym\n",
    "import ale_py\n",
    "import torch\n",
    "\n",
    "gym.register_envs(ale_py)\n",
    "device = torch.device(\n",
    "    \"cuda\" if torch.cuda.is_available() else\n",
    "    \"mps\" if torch.backends.mps.is_available() else\n",
    "    \"cpu\"\n",
    ")\n",
    "\n",
    "env = gym.make(\"ALE/Asteroids-v5\", render_mode=\"human\", mode=30)\n",
    "\n",
    "\"\"\" CONTROLS:\n",
    "    uhh check https://ale.farama.org/environments/asteroids/\n",
    "\n",
    "    REWARD:\n",
    "    points\n",
    "\"\"\"\n",
    "\n",
    "def test_run(n_ep, env):\n",
    "    \n",
    "    for _ in range(n_ep):\n",
    "        observation, info = env.reset()\n",
    "        total_reward = 0\n",
    "\n",
    "        while True:\n",
    "            action = env.action_space.sample()\n",
    "            observation, reward, terminated, truncated, info = env.step(action)\n",
    "            done = terminated or truncated            \n",
    "            total_reward += reward\n",
    "            # print(total_reward)\n",
    "            \n",
    "            if done:\n",
    "                break\n",
    "    env.close()\n",
    "\n",
    "test_run(1, env)\n"
   ]
  },
  {
   "cell_type": "code",
   "execution_count": null,
   "id": "a1210e55-836d-494f-9e02-7883283af26e",
   "metadata": {},
   "outputs": [],
   "source": []
  }
 ],
 "metadata": {
  "kernelspec": {
   "display_name": "Python 3 (ipykernel)",
   "language": "python",
   "name": "python3"
  },
  "language_info": {
   "codemirror_mode": {
    "name": "ipython",
    "version": 3
   },
   "file_extension": ".py",
   "mimetype": "text/x-python",
   "name": "python",
   "nbconvert_exporter": "python",
   "pygments_lexer": "ipython3",
   "version": "3.12.5"
  }
 },
 "nbformat": 4,
 "nbformat_minor": 5
}
